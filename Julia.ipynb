{
 "cells": [
  {
   "cell_type": "code",
   "execution_count": 1,
   "metadata": {},
   "outputs": [],
   "source": [
    "using CSV"
   ]
  },
  {
   "cell_type": "code",
   "execution_count": 2,
   "metadata": {
    "scrolled": true
   },
   "outputs": [
    {
     "data": {
      "text/html": [
       "<table class=\"data-frame\"><thead><tr><th></th><th>category</th><th>Power</th></tr><tr><th></th><th>Int64</th><th>Int64⍰</th></tr></thead><tbody><p>3,924 rows × 2 columns</p><tr><th>1</th><td>1583148960000</td><td>124</td></tr><tr><th>2</th><td>1583149020000</td><td>122</td></tr><tr><th>3</th><td>1583149080000</td><td>123</td></tr><tr><th>4</th><td>1583149140000</td><td>122</td></tr><tr><th>5</th><td>1583149200000</td><td>129</td></tr><tr><th>6</th><td>1583149260000</td><td>148</td></tr><tr><th>7</th><td>1583149320000</td><td>138</td></tr><tr><th>8</th><td>1583149380000</td><td>137</td></tr><tr><th>9</th><td>1583149440000</td><td>142</td></tr><tr><th>10</th><td>1583149500000</td><td>139</td></tr><tr><th>11</th><td>1583149560000</td><td>136</td></tr><tr><th>12</th><td>1583149620000</td><td>142</td></tr><tr><th>13</th><td>1583149680000</td><td>145</td></tr><tr><th>14</th><td>1583149740000</td><td>170</td></tr><tr><th>15</th><td>1583149800000</td><td>174</td></tr><tr><th>16</th><td>1583149860000</td><td>141</td></tr><tr><th>17</th><td>1583149920000</td><td>139</td></tr><tr><th>18</th><td>1583149980000</td><td>143</td></tr><tr><th>19</th><td>1583150040000</td><td>156</td></tr><tr><th>20</th><td>1583150100000</td><td>151</td></tr><tr><th>21</th><td>1583150160000</td><td>150</td></tr><tr><th>22</th><td>1583150220000</td><td>139</td></tr><tr><th>23</th><td>1583150280000</td><td>141</td></tr><tr><th>24</th><td>1583150340000</td><td>151</td></tr><tr><th>25</th><td>1583150400000</td><td>138</td></tr><tr><th>26</th><td>1583150460000</td><td>152</td></tr><tr><th>27</th><td>1583150520000</td><td>140</td></tr><tr><th>28</th><td>1583150580000</td><td>140</td></tr><tr><th>29</th><td>1583150640000</td><td>139</td></tr><tr><th>30</th><td>1583150700000</td><td>143</td></tr><tr><th>&vellip;</th><td>&vellip;</td><td>&vellip;</td></tr></tbody></table>"
      ],
      "text/latex": [
       "\\begin{tabular}{r|cc}\n",
       "\t& category & Power\\\\\n",
       "\t\\hline\n",
       "\t& Int64 & Int64⍰\\\\\n",
       "\t\\hline\n",
       "\t1 & 1583148960000 & 124 \\\\\n",
       "\t2 & 1583149020000 & 122 \\\\\n",
       "\t3 & 1583149080000 & 123 \\\\\n",
       "\t4 & 1583149140000 & 122 \\\\\n",
       "\t5 & 1583149200000 & 129 \\\\\n",
       "\t6 & 1583149260000 & 148 \\\\\n",
       "\t7 & 1583149320000 & 138 \\\\\n",
       "\t8 & 1583149380000 & 137 \\\\\n",
       "\t9 & 1583149440000 & 142 \\\\\n",
       "\t10 & 1583149500000 & 139 \\\\\n",
       "\t11 & 1583149560000 & 136 \\\\\n",
       "\t12 & 1583149620000 & 142 \\\\\n",
       "\t13 & 1583149680000 & 145 \\\\\n",
       "\t14 & 1583149740000 & 170 \\\\\n",
       "\t15 & 1583149800000 & 174 \\\\\n",
       "\t16 & 1583149860000 & 141 \\\\\n",
       "\t17 & 1583149920000 & 139 \\\\\n",
       "\t18 & 1583149980000 & 143 \\\\\n",
       "\t19 & 1583150040000 & 156 \\\\\n",
       "\t20 & 1583150100000 & 151 \\\\\n",
       "\t21 & 1583150160000 & 150 \\\\\n",
       "\t22 & 1583150220000 & 139 \\\\\n",
       "\t23 & 1583150280000 & 141 \\\\\n",
       "\t24 & 1583150340000 & 151 \\\\\n",
       "\t25 & 1583150400000 & 138 \\\\\n",
       "\t26 & 1583150460000 & 152 \\\\\n",
       "\t27 & 1583150520000 & 140 \\\\\n",
       "\t28 & 1583150580000 & 140 \\\\\n",
       "\t29 & 1583150640000 & 139 \\\\\n",
       "\t30 & 1583150700000 & 143 \\\\\n",
       "\t$\\dots$ & $\\dots$ & $\\dots$ \\\\\n",
       "\\end{tabular}\n"
      ],
      "text/plain": [
       "3924×2 DataFrames.DataFrame\n",
       "│ Row  │ category      │ Power  │\n",
       "│      │ \u001b[90mInt64\u001b[39m         │ \u001b[90mInt64⍰\u001b[39m │\n",
       "├──────┼───────────────┼────────┤\n",
       "│ 1    │ 1583148960000 │ 124    │\n",
       "│ 2    │ 1583149020000 │ 122    │\n",
       "│ 3    │ 1583149080000 │ 123    │\n",
       "│ 4    │ 1583149140000 │ 122    │\n",
       "│ 5    │ 1583149200000 │ 129    │\n",
       "│ 6    │ 1583149260000 │ 148    │\n",
       "│ 7    │ 1583149320000 │ 138    │\n",
       "│ 8    │ 1583149380000 │ 137    │\n",
       "│ 9    │ 1583149440000 │ 142    │\n",
       "│ 10   │ 1583149500000 │ 139    │\n",
       "⋮\n",
       "│ 3914 │ 1584661140000 │ 48     │\n",
       "│ 3915 │ 1584661200000 │ 47     │\n",
       "│ 3916 │ 1584661260000 │ 47     │\n",
       "│ 3917 │ 1584661320000 │ 47     │\n",
       "│ 3918 │ 1584661380000 │ 47     │\n",
       "│ 3919 │ 1584661440000 │ 48     │\n",
       "│ 3920 │ 1584661500000 │ 45     │\n",
       "│ 3921 │ 1584661560000 │ 51     │\n",
       "│ 3922 │ 1584661620000 │ 51     │\n",
       "│ 3923 │ 1584661680000 │ 52     │\n",
       "│ 3924 │ 1584661740000 │ 50     │"
      ]
     },
     "execution_count": 2,
     "metadata": {},
     "output_type": "execute_result"
    },
    {
     "name": "stderr",
     "output_type": "stream",
     "text": [
      "┌ Warning: `T` is deprecated, use `nonmissingtype` instead.\n",
      "│   caller = compacttype(::Type, ::Int64) at show.jl:39\n",
      "└ @ DataFrames C:\\Users\\andre\\.julia\\packages\\DataFrames\\m9gd9\\src\\abstractdataframe\\show.jl:39\n"
     ]
    }
   ],
   "source": [
    "# A = Meter Instantaneous Values Chart\n",
    "A = CSV.read(\"C:\\\\Users\\\\andre\\\\OneDrive\\\\Ambiente de Trabalho\\\\Data Science\\\\Connecta\\\\5c1d26.csv\")"
   ]
  },
  {
   "cell_type": "code",
   "execution_count": 3,
   "metadata": {
    "scrolled": true
   },
   "outputs": [
    {
     "data": {
      "text/plain": [
       "(3924, 2)"
      ]
     },
     "execution_count": 3,
     "metadata": {},
     "output_type": "execute_result"
    }
   ],
   "source": [
    "size(A)"
   ]
  },
  {
   "cell_type": "code",
   "execution_count": 4,
   "metadata": {},
   "outputs": [
    {
     "data": {
      "text/plain": [
       "3924"
      ]
     },
     "execution_count": 4,
     "metadata": {},
     "output_type": "execute_result"
    }
   ],
   "source": [
    "# m = ROWS number\n",
    "m = size(A,1)"
   ]
  },
  {
   "cell_type": "code",
   "execution_count": 5,
   "metadata": {},
   "outputs": [
    {
     "data": {
      "text/plain": [
       "2"
      ]
     },
     "execution_count": 5,
     "metadata": {},
     "output_type": "execute_result"
    }
   ],
   "source": [
    "# n = COLUMNS number\n",
    "n = size(A,2)"
   ]
  },
  {
   "cell_type": "code",
   "execution_count": 6,
   "metadata": {},
   "outputs": [
    {
     "data": {
      "text/html": [
       "<p>DataFrameRow</p><table class=\"data-frame\"><thead><tr><th></th><th>category</th><th>Power</th></tr><tr><th></th><th>Int64</th><th>Int64⍰</th></tr></thead><tbody><p>1 rows × 2 columns</p><tr><th>1</th><td>1583148960000</td><td>124</td></tr></tbody></table>"
      ],
      "text/latex": [
       "\\begin{tabular}{r|cc}\n",
       "\t& category & Power\\\\\n",
       "\t\\hline\n",
       "\t& Int64 & Int64⍰\\\\\n",
       "\t\\hline\n",
       "\t1 & 1583148960000 & 124 \\\\\n",
       "\\end{tabular}\n"
      ],
      "text/plain": [
       "DataFrameRow\n",
       "│ Row │ category      │ Power  │\n",
       "│     │ \u001b[90mInt64\u001b[39m         │ \u001b[90mInt64⍰\u001b[39m │\n",
       "├─────┼───────────────┼────────┤\n",
       "│ 1   │ 1583148960000 │ 124    │"
      ]
     },
     "execution_count": 6,
     "metadata": {},
     "output_type": "execute_result"
    }
   ],
   "source": [
    "# 1st row of A\n",
    "A[1,:]"
   ]
  },
  {
   "cell_type": "code",
   "execution_count": 7,
   "metadata": {
    "scrolled": true
   },
   "outputs": [
    {
     "data": {
      "text/plain": [
       "3924-element CSV.Column{Int64,Int64}:\n",
       " 1583148960000\n",
       " 1583149020000\n",
       " 1583149080000\n",
       " 1583149140000\n",
       " 1583149200000\n",
       " 1583149260000\n",
       " 1583149320000\n",
       " 1583149380000\n",
       " 1583149440000\n",
       " 1583149500000\n",
       " 1583149560000\n",
       " 1583149620000\n",
       " 1583149680000\n",
       "             ⋮\n",
       " 1584661080000\n",
       " 1584661140000\n",
       " 1584661200000\n",
       " 1584661260000\n",
       " 1584661320000\n",
       " 1584661380000\n",
       " 1584661440000\n",
       " 1584661500000\n",
       " 1584661560000\n",
       " 1584661620000\n",
       " 1584661680000\n",
       " 1584661740000"
      ]
     },
     "execution_count": 7,
     "metadata": {},
     "output_type": "execute_result"
    }
   ],
   "source": [
    "# 1st col of A\n",
    "A[1]"
   ]
  },
  {
   "cell_type": "code",
   "execution_count": 8,
   "metadata": {
    "scrolled": true
   },
   "outputs": [
    {
     "data": {
      "text/plain": [
       "3924-element Array{Int64,1}:\n",
       " 1583148960000\n",
       " 1583149020000\n",
       " 1583149080000\n",
       " 1583149140000\n",
       " 1583149200000\n",
       " 1583149260000\n",
       " 1583149320000\n",
       " 1583149380000\n",
       " 1583149440000\n",
       " 1583149500000\n",
       " 1583149560000\n",
       " 1583149620000\n",
       " 1583149680000\n",
       "             ⋮\n",
       " 1584661080000\n",
       " 1584661140000\n",
       " 1584661200000\n",
       " 1584661260000\n",
       " 1584661320000\n",
       " 1584661380000\n",
       " 1584661440000\n",
       " 1584661500000\n",
       " 1584661560000\n",
       " 1584661620000\n",
       " 1584661680000\n",
       " 1584661740000"
      ]
     },
     "execution_count": 8,
     "metadata": {},
     "output_type": "execute_result"
    }
   ],
   "source": [
    "# 1st col of A\n",
    "A[:,1]"
   ]
  },
  {
   "cell_type": "code",
   "execution_count": 9,
   "metadata": {},
   "outputs": [
    {
     "data": {
      "text/plain": [
       "1583148960000"
      ]
     },
     "execution_count": 9,
     "metadata": {},
     "output_type": "execute_result"
    }
   ],
   "source": [
    "# Element (1,1) of A\n",
    "A[1,1]"
   ]
  },
  {
   "cell_type": "code",
   "execution_count": 10,
   "metadata": {
    "scrolled": true
   },
   "outputs": [
    {
     "data": {
      "text/html": [
       "<table class=\"data-frame\"><thead><tr><th></th><th>category</th><th>Power</th></tr><tr><th></th><th>Int64</th><th>Int64⍰</th></tr></thead><tbody><p>3,924 rows × 2 columns</p><tr><th>1</th><td>1583148960000</td><td>124</td></tr><tr><th>2</th><td>1583149020000</td><td>122</td></tr><tr><th>3</th><td>1583149080000</td><td>123</td></tr><tr><th>4</th><td>1583149140000</td><td>122</td></tr><tr><th>5</th><td>1583149200000</td><td>129</td></tr><tr><th>6</th><td>1583149260000</td><td>148</td></tr><tr><th>7</th><td>1583149320000</td><td>138</td></tr><tr><th>8</th><td>1583149380000</td><td>137</td></tr><tr><th>9</th><td>1583149440000</td><td>142</td></tr><tr><th>10</th><td>1583149500000</td><td>139</td></tr><tr><th>11</th><td>1583149560000</td><td>136</td></tr><tr><th>12</th><td>1583149620000</td><td>142</td></tr><tr><th>13</th><td>1583149680000</td><td>145</td></tr><tr><th>14</th><td>1583149740000</td><td>170</td></tr><tr><th>15</th><td>1583149800000</td><td>174</td></tr><tr><th>16</th><td>1583149860000</td><td>141</td></tr><tr><th>17</th><td>1583149920000</td><td>139</td></tr><tr><th>18</th><td>1583149980000</td><td>143</td></tr><tr><th>19</th><td>1583150040000</td><td>156</td></tr><tr><th>20</th><td>1583150100000</td><td>151</td></tr><tr><th>21</th><td>1583150160000</td><td>150</td></tr><tr><th>22</th><td>1583150220000</td><td>139</td></tr><tr><th>23</th><td>1583150280000</td><td>141</td></tr><tr><th>24</th><td>1583150340000</td><td>151</td></tr><tr><th>25</th><td>1583150400000</td><td>138</td></tr><tr><th>26</th><td>1583150460000</td><td>152</td></tr><tr><th>27</th><td>1583150520000</td><td>140</td></tr><tr><th>28</th><td>1583150580000</td><td>140</td></tr><tr><th>29</th><td>1583150640000</td><td>139</td></tr><tr><th>30</th><td>1583150700000</td><td>143</td></tr><tr><th>&vellip;</th><td>&vellip;</td><td>&vellip;</td></tr></tbody></table>"
      ],
      "text/latex": [
       "\\begin{tabular}{r|cc}\n",
       "\t& category & Power\\\\\n",
       "\t\\hline\n",
       "\t& Int64 & Int64⍰\\\\\n",
       "\t\\hline\n",
       "\t1 & 1583148960000 & 124 \\\\\n",
       "\t2 & 1583149020000 & 122 \\\\\n",
       "\t3 & 1583149080000 & 123 \\\\\n",
       "\t4 & 1583149140000 & 122 \\\\\n",
       "\t5 & 1583149200000 & 129 \\\\\n",
       "\t6 & 1583149260000 & 148 \\\\\n",
       "\t7 & 1583149320000 & 138 \\\\\n",
       "\t8 & 1583149380000 & 137 \\\\\n",
       "\t9 & 1583149440000 & 142 \\\\\n",
       "\t10 & 1583149500000 & 139 \\\\\n",
       "\t11 & 1583149560000 & 136 \\\\\n",
       "\t12 & 1583149620000 & 142 \\\\\n",
       "\t13 & 1583149680000 & 145 \\\\\n",
       "\t14 & 1583149740000 & 170 \\\\\n",
       "\t15 & 1583149800000 & 174 \\\\\n",
       "\t16 & 1583149860000 & 141 \\\\\n",
       "\t17 & 1583149920000 & 139 \\\\\n",
       "\t18 & 1583149980000 & 143 \\\\\n",
       "\t19 & 1583150040000 & 156 \\\\\n",
       "\t20 & 1583150100000 & 151 \\\\\n",
       "\t21 & 1583150160000 & 150 \\\\\n",
       "\t22 & 1583150220000 & 139 \\\\\n",
       "\t23 & 1583150280000 & 141 \\\\\n",
       "\t24 & 1583150340000 & 151 \\\\\n",
       "\t25 & 1583150400000 & 138 \\\\\n",
       "\t26 & 1583150460000 & 152 \\\\\n",
       "\t27 & 1583150520000 & 140 \\\\\n",
       "\t28 & 1583150580000 & 140 \\\\\n",
       "\t29 & 1583150640000 & 139 \\\\\n",
       "\t30 & 1583150700000 & 143 \\\\\n",
       "\t$\\dots$ & $\\dots$ & $\\dots$ \\\\\n",
       "\\end{tabular}\n"
      ],
      "text/plain": [
       "3924×2 DataFrames.DataFrame\n",
       "│ Row  │ category      │ Power  │\n",
       "│      │ \u001b[90mInt64\u001b[39m         │ \u001b[90mInt64⍰\u001b[39m │\n",
       "├──────┼───────────────┼────────┤\n",
       "│ 1    │ 1583148960000 │ 124    │\n",
       "│ 2    │ 1583149020000 │ 122    │\n",
       "│ 3    │ 1583149080000 │ 123    │\n",
       "│ 4    │ 1583149140000 │ 122    │\n",
       "│ 5    │ 1583149200000 │ 129    │\n",
       "│ 6    │ 1583149260000 │ 148    │\n",
       "│ 7    │ 1583149320000 │ 138    │\n",
       "│ 8    │ 1583149380000 │ 137    │\n",
       "│ 9    │ 1583149440000 │ 142    │\n",
       "│ 10   │ 1583149500000 │ 139    │\n",
       "⋮\n",
       "│ 3914 │ 1584661140000 │ 48     │\n",
       "│ 3915 │ 1584661200000 │ 47     │\n",
       "│ 3916 │ 1584661260000 │ 47     │\n",
       "│ 3917 │ 1584661320000 │ 47     │\n",
       "│ 3918 │ 1584661380000 │ 47     │\n",
       "│ 3919 │ 1584661440000 │ 48     │\n",
       "│ 3920 │ 1584661500000 │ 45     │\n",
       "│ 3921 │ 1584661560000 │ 51     │\n",
       "│ 3922 │ 1584661620000 │ 51     │\n",
       "│ 3923 │ 1584661680000 │ 52     │\n",
       "│ 3924 │ 1584661740000 │ 50     │"
      ]
     },
     "execution_count": 10,
     "metadata": {},
     "output_type": "execute_result"
    }
   ],
   "source": [
    "A[:,:]"
   ]
  },
  {
   "cell_type": "code",
   "execution_count": 11,
   "metadata": {
    "scrolled": true
   },
   "outputs": [
    {
     "data": {
      "text/html": [
       "<table class=\"data-frame\"><thead><tr><th></th><th>category</th><th>Power</th></tr><tr><th></th><th>Int64</th><th>Int64⍰</th></tr></thead><tbody><p>3,924 rows × 2 columns</p><tr><th>1</th><td>1583148960000</td><td>124</td></tr><tr><th>2</th><td>1583149020000</td><td>122</td></tr><tr><th>3</th><td>1583149080000</td><td>123</td></tr><tr><th>4</th><td>1583149140000</td><td>122</td></tr><tr><th>5</th><td>1583149200000</td><td>129</td></tr><tr><th>6</th><td>1583149260000</td><td>148</td></tr><tr><th>7</th><td>1583149320000</td><td>138</td></tr><tr><th>8</th><td>1583149380000</td><td>137</td></tr><tr><th>9</th><td>1583149440000</td><td>142</td></tr><tr><th>10</th><td>1583149500000</td><td>139</td></tr><tr><th>11</th><td>1583149560000</td><td>136</td></tr><tr><th>12</th><td>1583149620000</td><td>142</td></tr><tr><th>13</th><td>1583149680000</td><td>145</td></tr><tr><th>14</th><td>1583149740000</td><td>170</td></tr><tr><th>15</th><td>1583149800000</td><td>174</td></tr><tr><th>16</th><td>1583149860000</td><td>141</td></tr><tr><th>17</th><td>1583149920000</td><td>139</td></tr><tr><th>18</th><td>1583149980000</td><td>143</td></tr><tr><th>19</th><td>1583150040000</td><td>156</td></tr><tr><th>20</th><td>1583150100000</td><td>151</td></tr><tr><th>21</th><td>1583150160000</td><td>150</td></tr><tr><th>22</th><td>1583150220000</td><td>139</td></tr><tr><th>23</th><td>1583150280000</td><td>141</td></tr><tr><th>24</th><td>1583150340000</td><td>151</td></tr><tr><th>25</th><td>1583150400000</td><td>138</td></tr><tr><th>26</th><td>1583150460000</td><td>152</td></tr><tr><th>27</th><td>1583150520000</td><td>140</td></tr><tr><th>28</th><td>1583150580000</td><td>140</td></tr><tr><th>29</th><td>1583150640000</td><td>139</td></tr><tr><th>30</th><td>1583150700000</td><td>143</td></tr><tr><th>&vellip;</th><td>&vellip;</td><td>&vellip;</td></tr></tbody></table>"
      ],
      "text/latex": [
       "\\begin{tabular}{r|cc}\n",
       "\t& category & Power\\\\\n",
       "\t\\hline\n",
       "\t& Int64 & Int64⍰\\\\\n",
       "\t\\hline\n",
       "\t1 & 1583148960000 & 124 \\\\\n",
       "\t2 & 1583149020000 & 122 \\\\\n",
       "\t3 & 1583149080000 & 123 \\\\\n",
       "\t4 & 1583149140000 & 122 \\\\\n",
       "\t5 & 1583149200000 & 129 \\\\\n",
       "\t6 & 1583149260000 & 148 \\\\\n",
       "\t7 & 1583149320000 & 138 \\\\\n",
       "\t8 & 1583149380000 & 137 \\\\\n",
       "\t9 & 1583149440000 & 142 \\\\\n",
       "\t10 & 1583149500000 & 139 \\\\\n",
       "\t11 & 1583149560000 & 136 \\\\\n",
       "\t12 & 1583149620000 & 142 \\\\\n",
       "\t13 & 1583149680000 & 145 \\\\\n",
       "\t14 & 1583149740000 & 170 \\\\\n",
       "\t15 & 1583149800000 & 174 \\\\\n",
       "\t16 & 1583149860000 & 141 \\\\\n",
       "\t17 & 1583149920000 & 139 \\\\\n",
       "\t18 & 1583149980000 & 143 \\\\\n",
       "\t19 & 1583150040000 & 156 \\\\\n",
       "\t20 & 1583150100000 & 151 \\\\\n",
       "\t21 & 1583150160000 & 150 \\\\\n",
       "\t22 & 1583150220000 & 139 \\\\\n",
       "\t23 & 1583150280000 & 141 \\\\\n",
       "\t24 & 1583150340000 & 151 \\\\\n",
       "\t25 & 1583150400000 & 138 \\\\\n",
       "\t26 & 1583150460000 & 152 \\\\\n",
       "\t27 & 1583150520000 & 140 \\\\\n",
       "\t28 & 1583150580000 & 140 \\\\\n",
       "\t29 & 1583150640000 & 139 \\\\\n",
       "\t30 & 1583150700000 & 143 \\\\\n",
       "\t$\\dots$ & $\\dots$ & $\\dots$ \\\\\n",
       "\\end{tabular}\n"
      ],
      "text/plain": [
       "3924×2 DataFrames.DataFrame\n",
       "│ Row  │ category      │ Power  │\n",
       "│      │ \u001b[90mInt64\u001b[39m         │ \u001b[90mInt64⍰\u001b[39m │\n",
       "├──────┼───────────────┼────────┤\n",
       "│ 1    │ 1583148960000 │ 124    │\n",
       "│ 2    │ 1583149020000 │ 122    │\n",
       "│ 3    │ 1583149080000 │ 123    │\n",
       "│ 4    │ 1583149140000 │ 122    │\n",
       "│ 5    │ 1583149200000 │ 129    │\n",
       "│ 6    │ 1583149260000 │ 148    │\n",
       "│ 7    │ 1583149320000 │ 138    │\n",
       "│ 8    │ 1583149380000 │ 137    │\n",
       "│ 9    │ 1583149440000 │ 142    │\n",
       "│ 10   │ 1583149500000 │ 139    │\n",
       "⋮\n",
       "│ 3914 │ 1584661140000 │ 48     │\n",
       "│ 3915 │ 1584661200000 │ 47     │\n",
       "│ 3916 │ 1584661260000 │ 47     │\n",
       "│ 3917 │ 1584661320000 │ 47     │\n",
       "│ 3918 │ 1584661380000 │ 47     │\n",
       "│ 3919 │ 1584661440000 │ 48     │\n",
       "│ 3920 │ 1584661500000 │ 45     │\n",
       "│ 3921 │ 1584661560000 │ 51     │\n",
       "│ 3922 │ 1584661620000 │ 51     │\n",
       "│ 3923 │ 1584661680000 │ 52     │\n",
       "│ 3924 │ 1584661740000 │ 50     │"
      ]
     },
     "execution_count": 11,
     "metadata": {},
     "output_type": "execute_result"
    }
   ],
   "source": [
    "first_feature = 1\n",
    "last_feature = 2\n",
    "features = A[first_feature:last_feature]"
   ]
  },
  {
   "cell_type": "code",
   "execution_count": 12,
   "metadata": {
    "scrolled": true
   },
   "outputs": [
    {
     "data": {
      "text/plain": [
       "3923×2 Array{Float64,2}:\n",
       " 0.0  0.0\n",
       " 0.0  0.0\n",
       " 0.0  0.0\n",
       " 0.0  0.0\n",
       " 0.0  0.0\n",
       " 0.0  0.0\n",
       " 0.0  0.0\n",
       " 0.0  0.0\n",
       " 0.0  0.0\n",
       " 0.0  0.0\n",
       " 0.0  0.0\n",
       " 0.0  0.0\n",
       " 0.0  0.0\n",
       " ⋮       \n",
       " 0.0  0.0\n",
       " 0.0  0.0\n",
       " 0.0  0.0\n",
       " 0.0  0.0\n",
       " 0.0  0.0\n",
       " 0.0  0.0\n",
       " 0.0  0.0\n",
       " 0.0  0.0\n",
       " 0.0  0.0\n",
       " 0.0  0.0\n",
       " 0.0  0.0\n",
       " 0.0  0.0"
      ]
     },
     "execution_count": 12,
     "metadata": {},
     "output_type": "execute_result"
    }
   ],
   "source": [
    "B = zeros(m-1,n)"
   ]
  },
  {
   "cell_type": "code",
   "execution_count": null,
   "metadata": {
    "scrolled": false
   },
   "outputs": [],
   "source": [
    "for i = 1:m\n",
    "    B[i,:] = A[i+1,:] .- A[i,:]\n",
    "end"
   ]
  },
  {
   "cell_type": "code",
   "execution_count": null,
   "metadata": {
    "scrolled": true
   },
   "outputs": [],
   "source": [
    "i = 1"
   ]
  },
  {
   "cell_type": "code",
   "execution_count": null,
   "metadata": {},
   "outputs": [],
   "source": [
    "B[i,1] = A[i+1,1] .- A[i,1]"
   ]
  },
  {
   "cell_type": "code",
   "execution_count": null,
   "metadata": {},
   "outputs": [],
   "source": [
    "B[i,2] = A[i+1,2] .- A[i,2]"
   ]
  },
  {
   "cell_type": "code",
   "execution_count": null,
   "metadata": {
    "scrolled": true
   },
   "outputs": [],
   "source": [
    "B"
   ]
  },
  {
   "cell_type": "code",
   "execution_count": null,
   "metadata": {},
   "outputs": [],
   "source": []
  },
  {
   "cell_type": "code",
   "execution_count": null,
   "metadata": {},
   "outputs": [],
   "source": []
  },
  {
   "cell_type": "code",
   "execution_count": null,
   "metadata": {},
   "outputs": [],
   "source": []
  },
  {
   "cell_type": "code",
   "execution_count": null,
   "metadata": {},
   "outputs": [],
   "source": []
  },
  {
   "cell_type": "code",
   "execution_count": null,
   "metadata": {},
   "outputs": [],
   "source": []
  },
  {
   "cell_type": "code",
   "execution_count": null,
   "metadata": {},
   "outputs": [],
   "source": []
  }
 ],
 "metadata": {
  "kernelspec": {
   "display_name": "Julia 1.1.1",
   "language": "julia",
   "name": "julia-1.1"
  },
  "language_info": {
   "file_extension": ".jl",
   "mimetype": "application/julia",
   "name": "julia",
   "version": "1.1.1"
  }
 },
 "nbformat": 4,
 "nbformat_minor": 2
}
